{
 "cells": [
  {
   "cell_type": "code",
   "execution_count": 1,
   "id": "96411575",
   "metadata": {},
   "outputs": [],
   "source": [
    "names = [[\"Bisheng\",\"Min\",\"Richelle\",\"Ria\"],[38,35,9,6]]"
   ]
  },
  {
   "cell_type": "code",
   "execution_count": 2,
   "id": "fa3e2182",
   "metadata": {},
   "outputs": [
    {
     "data": {
      "text/plain": [
       "[['Bisheng', 'Min', 'Richelle', 'Ria'], [38, 35, 9, 6]]"
      ]
     },
     "execution_count": 2,
     "metadata": {},
     "output_type": "execute_result"
    }
   ],
   "source": [
    "names"
   ]
  },
  {
   "cell_type": "code",
   "execution_count": 3,
   "id": "d6d35c24",
   "metadata": {},
   "outputs": [],
   "source": [
    "names.append([\"Work\",\"Work\",\"Study\",\"Study\"])"
   ]
  },
  {
   "cell_type": "code",
   "execution_count": 4,
   "id": "7e2bab63",
   "metadata": {},
   "outputs": [],
   "source": [
    "newperson = [\"Quanlili\",62,\"work\"]"
   ]
  },
  {
   "cell_type": "code",
   "execution_count": 5,
   "id": "85205f77",
   "metadata": {},
   "outputs": [],
   "source": [
    "for name,new in zip(names,newperson):\n",
    "    name.append(new)"
   ]
  },
  {
   "cell_type": "code",
   "execution_count": 6,
   "id": "3e11fe87",
   "metadata": {},
   "outputs": [
    {
     "name": "stdout",
     "output_type": "stream",
     "text": [
      "None\n"
     ]
    }
   ],
   "source": [
    "print(names[1].sort())"
   ]
  },
  {
   "cell_type": "code",
   "execution_count": 7,
   "id": "eac06cc3",
   "metadata": {},
   "outputs": [
    {
     "data": {
      "text/plain": [
       "3"
      ]
     },
     "execution_count": 7,
     "metadata": {},
     "output_type": "execute_result"
    }
   ],
   "source": [
    "len(names)"
   ]
  },
  {
   "cell_type": "code",
   "execution_count": 8,
   "id": "f6ab61cd",
   "metadata": {},
   "outputs": [
    {
     "data": {
      "text/plain": [
       "'work'"
      ]
     },
     "execution_count": 8,
     "metadata": {},
     "output_type": "execute_result"
    }
   ],
   "source": [
    "names[-1][-1]\n"
   ]
  },
  {
   "cell_type": "code",
   "execution_count": 20,
   "id": "688f54d1",
   "metadata": {},
   "outputs": [],
   "source": [
    "subname = []\n",
    "for name in names:\n",
    "        subname.append(name[2:])  "
   ]
  },
  {
   "cell_type": "code",
   "execution_count": 21,
   "id": "092e3995",
   "metadata": {},
   "outputs": [
    {
     "data": {
      "text/plain": [
       "[['Richelle', 'Ria', 'Quanlili'], [35, 38, 62], ['Study', 'Study', 'work']]"
      ]
     },
     "execution_count": 21,
     "metadata": {},
     "output_type": "execute_result"
    }
   ],
   "source": [
    "subname"
   ]
  },
  {
   "cell_type": "code",
   "execution_count": 22,
   "id": "cac612f9",
   "metadata": {},
   "outputs": [],
   "source": [
    "bishengdict = {\"age\": 38,\n",
    "          \"address\": \"Gothenburg\",\n",
    "          \"zipcode\":42677,}\n",
    "bishenglist = [38, \"Gothenburg\",42677]"
   ]
  },
  {
   "cell_type": "code",
   "execution_count": 23,
   "id": "132e8368",
   "metadata": {},
   "outputs": [
    {
     "data": {
      "text/plain": [
       "'Gothenburg'"
      ]
     },
     "execution_count": 23,
     "metadata": {},
     "output_type": "execute_result"
    }
   ],
   "source": [
    "bishengdict[\"address\"]"
   ]
  },
  {
   "cell_type": "code",
   "execution_count": 24,
   "id": "05b0be62",
   "metadata": {},
   "outputs": [
    {
     "data": {
      "text/plain": [
       "'Gothenburg'"
      ]
     },
     "execution_count": 24,
     "metadata": {},
     "output_type": "execute_result"
    }
   ],
   "source": [
    "bishenglist[1]"
   ]
  },
  {
   "cell_type": "code",
   "execution_count": 25,
   "id": "9bc76b62",
   "metadata": {},
   "outputs": [],
   "source": [
    "bishengdict[\"carmodel\"] = \"Lexus\""
   ]
  },
  {
   "cell_type": "code",
   "execution_count": 29,
   "id": "22ef4f8c",
   "metadata": {},
   "outputs": [
    {
     "data": {
      "text/plain": [
       "{'age': 38, 'address': 'Molndal', 'zipcode': 42677, 'carmodel': 'Lexus'}"
      ]
     },
     "execution_count": 29,
     "metadata": {},
     "output_type": "execute_result"
    }
   ],
   "source": [
    "bishengdict"
   ]
  },
  {
   "cell_type": "code",
   "execution_count": 28,
   "id": "532286ff",
   "metadata": {},
   "outputs": [],
   "source": [
    "bishengdict[\"address\"] = \"Molndal\""
   ]
  },
  {
   "cell_type": "code",
   "execution_count": 35,
   "id": "234fc97d",
   "metadata": {},
   "outputs": [
    {
     "data": {
      "text/plain": [
       "dict_keys(['age', 'address', 'zipcode'])"
      ]
     },
     "execution_count": 35,
     "metadata": {},
     "output_type": "execute_result"
    }
   ],
   "source": [
    "bishengdict.keys()"
   ]
  },
  {
   "cell_type": "code",
   "execution_count": 32,
   "id": "19eb0466",
   "metadata": {},
   "outputs": [
    {
     "data": {
      "text/plain": [
       "dict_values([38, 'Molndal', 42677, 'Lexus'])"
      ]
     },
     "execution_count": 32,
     "metadata": {},
     "output_type": "execute_result"
    }
   ],
   "source": [
    "bishengdict.values()"
   ]
  },
  {
   "cell_type": "code",
   "execution_count": 33,
   "id": "a43891aa",
   "metadata": {},
   "outputs": [
    {
     "data": {
      "text/plain": [
       "4"
      ]
     },
     "execution_count": 33,
     "metadata": {},
     "output_type": "execute_result"
    }
   ],
   "source": [
    "len(bishengdict)"
   ]
  },
  {
   "cell_type": "code",
   "execution_count": 34,
   "id": "6ab997a7",
   "metadata": {},
   "outputs": [],
   "source": [
    "del(bishengdict[\"carmodel\"])"
   ]
  },
  {
   "cell_type": "code",
   "execution_count": null,
   "id": "f32138c8",
   "metadata": {},
   "outputs": [],
   "source": []
  }
 ],
 "metadata": {
  "kernelspec": {
   "display_name": "Python 3",
   "language": "python",
   "name": "python3"
  },
  "language_info": {
   "codemirror_mode": {
    "name": "ipython",
    "version": 3
   },
   "file_extension": ".py",
   "mimetype": "text/x-python",
   "name": "python",
   "nbconvert_exporter": "python",
   "pygments_lexer": "ipython3",
   "version": "3.8.8"
  }
 },
 "nbformat": 4,
 "nbformat_minor": 5
}
